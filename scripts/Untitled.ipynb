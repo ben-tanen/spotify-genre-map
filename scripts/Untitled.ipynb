{
 "cells": [
  {
   "cell_type": "code",
   "execution_count": 1,
   "metadata": {},
   "outputs": [],
   "source": [
    "import os, json\n",
    "import pandas as pd\n",
    "import numpy as np\n",
    "\n",
    "import spotipy\n",
    "import spotipy.util as util"
   ]
  },
  {
   "cell_type": "code",
   "execution_count": 3,
   "metadata": {},
   "outputs": [],
   "source": [
    "# set API keys\n",
    "apikeys = json.load(open(\"../data/api-keys.json\"))\n",
    "os.environ[\"SPOTIPY_CLIENT_ID\"]     = apikeys[\"spotipy-client-id\"]\n",
    "os.environ[\"SPOTIPY_CLIENT_SECRET\"] = apikeys[\"spotipy-client-secret\"]\n",
    "os.environ[\"SPOTIPY_REDIRECT_URI\"]  = apikeys[\"redirect-url\"]\n",
    "\n",
    "# set my user_id\n",
    "user_id = '129874447'"
   ]
  },
  {
   "cell_type": "code",
   "execution_count": 4,
   "metadata": {},
   "outputs": [
    {
     "name": "stdout",
     "output_type": "stream",
     "text": [
      "\n",
      "\n",
      "            User authentication requires interaction with your\n",
      "            web browser. Once you enter your credentials and\n",
      "            give authorization, you will be redirected to\n",
      "            a url.  Paste that url you were directed to to\n",
      "            complete the authorization.\n",
      "\n",
      "        \n",
      "Opened https://accounts.spotify.com/authorize?client_id=8ab10b4296bd4266b959f2caee8dd7a4&response_type=code&redirect_uri=http%3A%2F%2Fben-tanen.com&scope=user-library-read in your browser\n",
      "\n",
      "\n",
      "Enter the URL you were redirected to: http://ben-tanen.com/?code=AQAe3BhYyY-uwvodCHehi7lSXFaHYtJaKD0LZ998XaZsOwhe6vH8FZ8_gTQFxBUcaCc59J0iyZT6FJhug_lHHxUg4A5G_ZoZbYx_2iaQMPaeiwq4Sd0AeHcpEkss3pK1qELMsE5OXe9Hzmb8s0LXUGtCfsUxog8gqhE03t-byWakDtkVDz39zdFkFw\n",
      "\n",
      "\n"
     ]
    }
   ],
   "source": [
    "# connect to spotify\n",
    "token = util.prompt_for_user_token(user_id, scope = 'user-library-read')\n",
    "sp = spotipy.Spotify(auth = token)"
   ]
  },
  {
   "cell_type": "markdown",
   "metadata": {},
   "source": [
    "### Define helper functions"
   ]
  },
  {
   "cell_type": "code",
   "execution_count": 24,
   "metadata": {},
   "outputs": [],
   "source": [
    "### function to get the current user's saved tracks (track name, artist, id)\n",
    "def get_saved_artists(limit = 50, offset = 0):\n",
    "    saved_artists = [ ]\n",
    "    \n",
    "    # get initial list of tracks to determine length\n",
    "    saved_tracks_obj = sp.current_user_saved_tracks(limit = limit, offset = offset)\n",
    "    num_saved_tracks = saved_tracks_obj['total']\n",
    "    \n",
    "    # loop through to get all saved tracked\n",
    "    while (offset < num_saved_tracks):\n",
    "        saved_tracks_obj = sp.current_user_saved_tracks(limit = limit, offset = offset)\n",
    "        \n",
    "        # add track information to running list\n",
    "        for track_obj in saved_tracks_obj['items']:\n",
    "            for artist in track_obj['track']['artists']:\n",
    "                saved_artists.append({\n",
    "                    'artist': artist['name'],\n",
    "                    'artist_id': artist['id']\n",
    "                })\n",
    "    \n",
    "        offset += limit\n",
    "        \n",
    "    return saved_artists\n",
    "\n",
    "def get_artist_genres(artist_ids):\n",
    "    print(artist_ids)"
   ]
  },
  {
   "cell_type": "code",
   "execution_count": 91,
   "metadata": {},
   "outputs": [],
   "source": [
    "artists = pd.DataFrame(get_saved_artists())"
   ]
  },
  {
   "cell_type": "code",
   "execution_count": 92,
   "metadata": {},
   "outputs": [],
   "source": [
    "artists_uniq = pd.DataFrame(artists.groupby(['artist', 'artist_id']).size(), columns = [\"count\"]).reset_index()\n",
    "artist_ids = artists_uniq['artist_id']"
   ]
  },
  {
   "cell_type": "code",
   "execution_count": 93,
   "metadata": {},
   "outputs": [
    {
     "data": {
      "text/plain": [
       "0      17lzZA2AlOHwCwFALHttmp\n",
       "1      5uhqkMm8dyQvX83kl4Znq0\n",
       "2      08Uextujt6ZT2iQmSYAJfH\n",
       "3      6FfsOtDdMCFO5Qo0H8rwPa\n",
       "4      2XxgHIPXNgHGbvtBBGZrKm\n",
       "                ...          \n",
       "889    7sOR7gk6XUlGnxj3p9F54k\n",
       "890    3ztRX1UoIOsFqpD7dB6R8O\n",
       "891    5xeBMeW0YzWIXSVzAxhM8O\n",
       "892    4h7DUL1L3RrCzquDp8xQXY\n",
       "893    7xUZ4069zcyBM4Bn10NQ1c\n",
       "Name: artist_id, Length: 894, dtype: object"
      ]
     },
     "execution_count": 93,
     "metadata": {},
     "output_type": "execute_result"
    }
   ],
   "source": [
    "artist_ids"
   ]
  },
  {
   "cell_type": "code",
   "execution_count": 94,
   "metadata": {},
   "outputs": [],
   "source": [
    "artist_genres = [ ]\n",
    "    \n",
    "# iterate through track_ids in groups of 50\n",
    "for ix in range(0,len(artist_ids), 50):\n",
    "    artist_genres += [{'id': artist_obj['id'],\n",
    "                       'name': artist_obj['name'],\n",
    "                       'genres': '|'.join(artist_obj['genres'])}\n",
    "                      for artist_obj in sp.artists(artist_ids[ix:ix+50])['artists']]"
   ]
  },
  {
   "cell_type": "code",
   "execution_count": 102,
   "metadata": {},
   "outputs": [],
   "source": [
    "artists_uniq = artists_uniq.merge(pd.DataFrame(artist_genres), \\\n",
    "                                  how = 'left', left_on = 'artist_id', right_on = 'id').drop(['id', 'name'], axis = 1)"
   ]
  },
  {
   "cell_type": "code",
   "execution_count": 103,
   "metadata": {},
   "outputs": [
    {
     "data": {
      "text/html": [
       "<div>\n",
       "<style scoped>\n",
       "    .dataframe tbody tr th:only-of-type {\n",
       "        vertical-align: middle;\n",
       "    }\n",
       "\n",
       "    .dataframe tbody tr th {\n",
       "        vertical-align: top;\n",
       "    }\n",
       "\n",
       "    .dataframe thead th {\n",
       "        text-align: right;\n",
       "    }\n",
       "</style>\n",
       "<table border=\"1\" class=\"dataframe\">\n",
       "  <thead>\n",
       "    <tr style=\"text-align: right;\">\n",
       "      <th></th>\n",
       "      <th>artist</th>\n",
       "      <th>artist_id</th>\n",
       "      <th>count</th>\n",
       "      <th>genres</th>\n",
       "    </tr>\n",
       "  </thead>\n",
       "  <tbody>\n",
       "    <tr>\n",
       "      <th>0</th>\n",
       "      <td>2 Chainz</td>\n",
       "      <td>17lzZA2AlOHwCwFALHttmp</td>\n",
       "      <td>1</td>\n",
       "      <td>atl hip hop|gangster rap|hip hop|pop rap|rap|s...</td>\n",
       "    </tr>\n",
       "    <tr>\n",
       "      <th>1</th>\n",
       "      <td>99 Neighbors</td>\n",
       "      <td>5uhqkMm8dyQvX83kl4Znq0</td>\n",
       "      <td>2</td>\n",
       "      <td>vermont indie</td>\n",
       "    </tr>\n",
       "    <tr>\n",
       "      <th>2</th>\n",
       "      <td>AHI</td>\n",
       "      <td>08Uextujt6ZT2iQmSYAJfH</td>\n",
       "      <td>2</td>\n",
       "      <td>canadian folk</td>\n",
       "    </tr>\n",
       "    <tr>\n",
       "      <th>3</th>\n",
       "      <td>ARMAND MARGJEKA</td>\n",
       "      <td>6FfsOtDdMCFO5Qo0H8rwPa</td>\n",
       "      <td>2</td>\n",
       "      <td></td>\n",
       "    </tr>\n",
       "    <tr>\n",
       "      <th>4</th>\n",
       "      <td>ASL</td>\n",
       "      <td>2XxgHIPXNgHGbvtBBGZrKm</td>\n",
       "      <td>1</td>\n",
       "      <td></td>\n",
       "    </tr>\n",
       "    <tr>\n",
       "      <th>...</th>\n",
       "      <td>...</td>\n",
       "      <td>...</td>\n",
       "      <td>...</td>\n",
       "      <td>...</td>\n",
       "    </tr>\n",
       "    <tr>\n",
       "      <th>889</th>\n",
       "      <td>half•alive</td>\n",
       "      <td>7sOR7gk6XUlGnxj3p9F54k</td>\n",
       "      <td>2</td>\n",
       "      <td>indie pop|modern alternative rock|modern rock|...</td>\n",
       "    </tr>\n",
       "    <tr>\n",
       "      <th>890</th>\n",
       "      <td>illuminati hotties</td>\n",
       "      <td>3ztRX1UoIOsFqpD7dB6R8O</td>\n",
       "      <td>1</td>\n",
       "      <td>indie punk|indie rock|small room</td>\n",
       "    </tr>\n",
       "    <tr>\n",
       "      <th>891</th>\n",
       "      <td>of Montreal</td>\n",
       "      <td>5xeBMeW0YzWIXSVzAxhM8O</td>\n",
       "      <td>1</td>\n",
       "      <td>alternative dance|alternative rock|anti-folk|a...</td>\n",
       "    </tr>\n",
       "    <tr>\n",
       "      <th>892</th>\n",
       "      <td>yMusic</td>\n",
       "      <td>4h7DUL1L3RrCzquDp8xQXY</td>\n",
       "      <td>1</td>\n",
       "      <td>modern performance</td>\n",
       "    </tr>\n",
       "    <tr>\n",
       "      <th>893</th>\n",
       "      <td>Ásgeir</td>\n",
       "      <td>7xUZ4069zcyBM4Bn10NQ1c</td>\n",
       "      <td>2</td>\n",
       "      <td>icelandic folk|icelandic indie|icelandic pop|i...</td>\n",
       "    </tr>\n",
       "  </tbody>\n",
       "</table>\n",
       "<p>894 rows × 4 columns</p>\n",
       "</div>"
      ],
      "text/plain": [
       "                 artist               artist_id  count  \\\n",
       "0              2 Chainz  17lzZA2AlOHwCwFALHttmp      1   \n",
       "1          99 Neighbors  5uhqkMm8dyQvX83kl4Znq0      2   \n",
       "2                   AHI  08Uextujt6ZT2iQmSYAJfH      2   \n",
       "3       ARMAND MARGJEKA  6FfsOtDdMCFO5Qo0H8rwPa      2   \n",
       "4                   ASL  2XxgHIPXNgHGbvtBBGZrKm      1   \n",
       "..                  ...                     ...    ...   \n",
       "889          half•alive  7sOR7gk6XUlGnxj3p9F54k      2   \n",
       "890  illuminati hotties  3ztRX1UoIOsFqpD7dB6R8O      1   \n",
       "891         of Montreal  5xeBMeW0YzWIXSVzAxhM8O      1   \n",
       "892              yMusic  4h7DUL1L3RrCzquDp8xQXY      1   \n",
       "893              Ásgeir  7xUZ4069zcyBM4Bn10NQ1c      2   \n",
       "\n",
       "                                                genres  \n",
       "0    atl hip hop|gangster rap|hip hop|pop rap|rap|s...  \n",
       "1                                        vermont indie  \n",
       "2                                        canadian folk  \n",
       "3                                                       \n",
       "4                                                       \n",
       "..                                                 ...  \n",
       "889  indie pop|modern alternative rock|modern rock|...  \n",
       "890                   indie punk|indie rock|small room  \n",
       "891  alternative dance|alternative rock|anti-folk|a...  \n",
       "892                                 modern performance  \n",
       "893  icelandic folk|icelandic indie|icelandic pop|i...  \n",
       "\n",
       "[894 rows x 4 columns]"
      ]
     },
     "execution_count": 103,
     "metadata": {},
     "output_type": "execute_result"
    }
   ],
   "source": [
    "artists_uniq"
   ]
  },
  {
   "cell_type": "code",
   "execution_count": 104,
   "metadata": {},
   "outputs": [],
   "source": [
    "artists_uniq.to_csv('../data/2020.07.25 - artist genres.csv', index = False)"
   ]
  },
  {
   "cell_type": "code",
   "execution_count": 108,
   "metadata": {},
   "outputs": [],
   "source": [
    "pd.DataFrame(json.load(open(\"../data/2020.07.25 - every-noise-at-once-scrape.txt\"))).to_csv(\"../data/2020.07.25 - every-noise-at-once-scrape.csv\", index = False)"
   ]
  },
  {
   "cell_type": "code",
   "execution_count": null,
   "metadata": {},
   "outputs": [],
   "source": []
  }
 ],
 "metadata": {
  "kernelspec": {
   "display_name": "Python 3",
   "language": "python",
   "name": "python3"
  },
  "language_info": {
   "codemirror_mode": {
    "name": "ipython",
    "version": 3
   },
   "file_extension": ".py",
   "mimetype": "text/x-python",
   "name": "python",
   "nbconvert_exporter": "python",
   "pygments_lexer": "ipython3",
   "version": "3.7.3"
  }
 },
 "nbformat": 4,
 "nbformat_minor": 4
}
